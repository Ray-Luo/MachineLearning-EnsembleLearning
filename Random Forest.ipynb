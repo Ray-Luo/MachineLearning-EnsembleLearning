{
 "cells": [
  {
   "cell_type": "code",
   "execution_count": 19,
   "metadata": {},
   "outputs": [],
   "source": [
    "import DTree\n",
    "import numpy as np\n",
    "from collections import Counter\n",
    "\n",
    "class RandomForest:\n",
    "    \n",
    "    def __init__(self, n_trees=20):\n",
    "        self.n_trees = n_trees\n",
    "    \n",
    "    def train(self, X_train, y_train, feature_names, percentage=0.5):\n",
    "        n_samples = X_train.shape[0]\n",
    "        self.forest = []\n",
    "        for i in range(self.n_trees):\n",
    "            indices = np.random.randint(0, n_samples, np.int(percentage * n_samples))\n",
    "            cur_X_train = X_train[indices]\n",
    "            cur_y_train = y_train[indices]\n",
    "            tree = DTree.DTree()\n",
    "            tree.train(cur_X_train, cur_y_train, feature_names, forest=len(feature_names))\n",
    "            self.forest.append(tree)\n",
    "        \n",
    "    \n",
    "    def predict(self, X_test, y_test):\n",
    "        predctions = []\n",
    "        for x in X_test:\n",
    "            cur_prediction = Counter()\n",
    "            for tree in self.forest:\n",
    "                cur_prediction[tree.predict(tree.tree, x)] += 1\n",
    "            predctions.append(cur_prediction.most_common(1)[0][0])\n",
    "        predctions = np.array(predctions)\n",
    "        if y_test is not None:\n",
    "            accuracy = np.sum(predctions == y_test)/len(y_test)\n",
    "            #print('Accuracy:', accuracy)\n",
    "            return predctions, accuracy\n",
    "        else:\n",
    "            return predctions"
   ]
  },
  {
   "cell_type": "code",
   "execution_count": 20,
   "metadata": {},
   "outputs": [
    {
     "name": "stdout",
     "output_type": "stream",
     "text": [
      "Random Forest Accuracy:  0.905587668593449\n"
     ]
    }
   ],
   "source": [
    "from sklearn.cross_validation import train_test_split\n",
    "from collections import Counter\n",
    "import pandas as pd\n",
    "import Bagging\n",
    "\n",
    "data = pd.read_csv('car.csv')\n",
    "feature_names = data.columns.values[0:-1].tolist()\n",
    "X = data.iloc[:,0:-1].values\n",
    "y = data.iloc[:,-1].values\n",
    "X_train, X_test, y_train, y_test = train_test_split(X, y, test_size = 0.3, random_state = 123)\n",
    "\n",
    "forest = RandomForest()\n",
    "forest.train(X_train, y_train, feature_names)\n",
    "prediction = forest.predict(X_test, y_test)[1]\n",
    "print('Random Forest Accuracy: ', prediction)"
   ]
  },
  {
   "cell_type": "code",
   "execution_count": null,
   "metadata": {},
   "outputs": [],
   "source": []
  }
 ],
 "metadata": {
  "kernelspec": {
   "display_name": "Python 3",
   "language": "python",
   "name": "python3"
  },
  "language_info": {
   "codemirror_mode": {
    "name": "ipython",
    "version": 3
   },
   "file_extension": ".py",
   "mimetype": "text/x-python",
   "name": "python",
   "nbconvert_exporter": "python",
   "pygments_lexer": "ipython3",
   "version": "3.6.4"
  }
 },
 "nbformat": 4,
 "nbformat_minor": 2
}
