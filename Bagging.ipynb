{
 "cells": [
  {
   "cell_type": "code",
   "execution_count": 152,
   "metadata": {},
   "outputs": [],
   "source": [
    "import numpy as np\n",
    "from sklearn.tree import DecisionTreeClassifier as DTree\n",
    "import time\n",
    "\n",
    "class Bagging:\n",
    "    \n",
    "    def __init__(self, n_iter=20):\n",
    "        self.n_iter = n_iter\n",
    "        self.estimator = DTree(random_state=1)\n",
    "        \n",
    "    def train(self, X_train, y_train,percentage=0.2):\n",
    "        self.percentage = percentage\n",
    "        self.estimators = []\n",
    "        n_samples = X_train.shape[0]\n",
    "        start_time = time.time()\n",
    "        for i in range(self.n_iter):\n",
    "            indices = np.random.randint(0, n_samples, np.int(self.percentage * n_samples))\n",
    "            cur_X_train = X_train[indices]\n",
    "            cur_y_train = y_train[indices]\n",
    "            self.estimator.fit(cur_X_train, cur_y_train)\n",
    "            self.estimators.append(self.estimator)\n",
    "        end_time = time.time()\n",
    "        return end_time - start_time\n",
    "    \n",
    "    def predict(self, X_test, y_test = None):\n",
    "        predctions = []\n",
    "        for x in X_test:\n",
    "            cur_prediction = Counter()\n",
    "            for estimator in self.estimators:\n",
    "                cur_prediction[estimator.predict(x.reshape(1,len(x)))[0]] += 1\n",
    "            predctions.append(cur_prediction.most_common(1)[0][0])\n",
    "        predctions = np.array(predctions)\n",
    "        if y_test is not None:\n",
    "            accuracy = np.sum(predctions == y_test)/len(y_test)\n",
    "            print('Accuracy:', accuracy)\n",
    "            return predctions, accuracy\n",
    "        return predctions\n",
    "        "
   ]
  },
  {
   "cell_type": "code",
   "execution_count": 153,
   "metadata": {},
   "outputs": [
    {
     "name": "stdout",
     "output_type": "stream",
     "text": [
      "Accuracy: 0.6979166666666666\n",
      "Accuracy: 0.7266666666666667\n",
      "Accuracy: 0.7533333333333333\n",
      "Accuracy: 0.7625\n",
      "Accuracy: 0.7575\n",
      "Accuracy: 0.7554166666666666\n",
      "Accuracy: 0.7541666666666667\n",
      "Accuracy: 0.7604166666666666\n",
      "Accuracy: 0.7654166666666666\n"
     ]
    }
   ],
   "source": [
    "from sklearn.cross_validation import train_test_split\n",
    "from sklearn.datasets import make_hastie_10_2\n",
    "from sklearn.datasets import load_iris\n",
    "from collections import Counter\n",
    "\n",
    "X, y = make_hastie_10_2()\n",
    "X_train, X_test, y_train, y_test = train_test_split(X, y, test_size = 0.2, random_state = 123)\n",
    "\n",
    "bagging = Bagging()\n",
    "\n",
    "time_spend = []\n",
    "accuracies = []\n",
    "for i in np.arange(0.1, 1.0, 0.1):\n",
    "    cur_time = bagging.train(X_train, y_train, percentage = i)\n",
    "    accuracy = bagging.predict(X_test, y_test)[1]\n",
    "    time_spend.append(cur_time)\n",
    "    accuracies.append(accuracy)"
   ]
  },
  {
   "cell_type": "code",
   "execution_count": 172,
   "metadata": {},
   "outputs": [
    {
     "data": {
      "text/plain": [
       "<matplotlib.figure.Figure at 0x11873749a90>"
      ]
     },
     "metadata": {},
     "output_type": "display_data"
    },
    {
     "name": "stderr",
     "output_type": "stream",
     "text": [
      "C:\\Anaconda3\\lib\\site-packages\\matplotlib\\figure.py:2022: UserWarning: This figure includes Axes that are not compatible with tight_layout, so results might be incorrect.\n",
      "  warnings.warn(\"This figure includes Axes that are not compatible \"\n"
     ]
    },
    {
     "data": {
      "image/png": "[encoded data removed]",
      "text/plain": [
       "<matplotlib.figure.Figure at 0x11874b34c18>"
      ]
     },
     "metadata": {},
     "output_type": "display_data"
    }
   ],
   "source": [
    "import matplotlib.pyplot as plt\n",
    "import pandas as pd\n",
    "\n",
    "bars = plt.figure()\n",
    "plot_df = pd.DataFrame(data = [time_spend,accuracies]).T\n",
    "plot_df.index = ['10%', '20%', '30%','40%','50%','60%','70%','80%','90%']\n",
    "plot_df.columns = ['time','accuracy']\n",
    "\n",
    "figure = plt.figure()\n",
    "ax1 = figure.add_subplot(111)\n",
    "ax2 = ax1.twinx()\n",
    "\n",
    "plot_df.accuracy.plot(kind = 'bar', color = 'red', ax = ax2, width = 0.3, position = 0, rot=0)\n",
    "plot_df.time.plot(kind = 'bar', color = 'blue', ax = ax1, width = 0.3, position = 1, rot=0)\n",
    "ax1.set_ylabel('Training Time')\n",
    "ax1.set_ylim(0,10)\n",
    "ax2.set_ylabel('Accuracy')\n",
    "ax2.set_ylim(0,1)\n",
    "\n",
    "handles,labels = [],[]\n",
    "for ax in figure.axes:\n",
    "    for h,l in zip(*ax.get_legend_handles_labels()):\n",
    "        handles.append(h)\n",
    "        labels.append(l)\n",
    "ax1.set_xlabel('Training Data Percentage')\n",
    "plt.legend(handles,labels)\n",
    "plt.tight_layout()\n",
    "plt.show()"
   ]
  },
  {
   "cell_type": "code",
   "execution_count": null,
   "metadata": {},
   "outputs": [],
   "source": []
  }
 ],
 "metadata": {
  "kernelspec": {
   "display_name": "Python 3",
   "language": "python",
   "name": "python3"
  },
  "language_info": {
   "codemirror_mode": {
    "name": "ipython",
    "version": 3
   },
   "file_extension": ".py",
   "mimetype": "text/x-python",
   "name": "python",
   "nbconvert_exporter": "python",
   "pygments_lexer": "ipython3",
   "version": "3.6.4"
  }
 },
 "nbformat": 4,
 "nbformat_minor": 2
}
